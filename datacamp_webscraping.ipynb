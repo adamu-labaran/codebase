{
 "cells": [
  {
   "cell_type": "code",
   "execution_count": null,
   "metadata": {},
   "outputs": [],
   "source": [
    "'''\n",
    "Import the function urlretrieve from the subpackage urllib.request.\n",
    "Assign the URL of the file to the variable url.\n",
    "Use the function urlretrieve() to save the file locally as 'winequality-red.csv'.\n",
    "Execute the remaining code to load 'winequality-red.csv' in a pandas DataFrame and to print its head to the shell.\n",
    "\n",
    "'''\n",
    "\n",
    "# Import package\n",
    "from urllib.request import urlretrieve\n",
    "\n",
    "# Import pandas\n",
    "import pandas as pd\n",
    "\n",
    "# Assign url of file: url\n",
    "url = 'https://assets.datacamp.com/production/course_1606/datasets/winequality-red.csv'\n",
    "\n",
    "# Save file locally\n",
    "urlretrieve(url, 'winequality-red.csv')\n",
    "\n",
    "# Read file into a DataFrame and print its head\n",
    "df = pd.read_csv('winequality-red.csv', sep=';')\n",
    "print(df.head())\n"
   ]
  },
  {
   "cell_type": "code",
   "execution_count": null,
   "metadata": {},
   "outputs": [],
   "source": [
    "'''\n",
    "Opening and reading flat files from the web\n",
    "You have just imported a file from the web, saved it locally and loaded it into a DataFrame. If you just wanted to load a file from the web into a DataFrame without first saving it locally, you can do that easily using pandas. In particular, you can use the function pd.read_csv() with the URL as the first argument and the separator sep as the second argument.\n",
    "\n",
    "The URL of the file, once again, is\n",
    "\n",
    "'https://assets.datacamp.com/production/course_1606/datasets/wineq\n",
    "'''\n",
    "\n",
    "# Import packages\n",
    "import matplotlib.pyplot as plt\n",
    "import pandas as pd\n",
    "\n",
    "# Assign url of file: url\n",
    "url = 'https://assets.datacamp.com/production/course_1606/datasets/winequality-red.csv'\n",
    "\n",
    "# Read file into a DataFrame: df\n",
    "df = pd.read_csv(url, sep=';')\n",
    "\n",
    "# Print the head of the DataFrame\n",
    "print(df.head())\n",
    "\n",
    "# Plot first column of df\n",
    "df.iloc[:, 0].hist()\n",
    "plt.xlabel('fixed acidity (g(tartaric acid)/dm$^3$)')\n",
    "plt.ylabel('count')\n",
    "plt.show()\n"
   ]
  },
  {
   "cell_type": "code",
   "execution_count": null,
   "metadata": {},
   "outputs": [],
   "source": [
    "'''\n",
    "Assign the URL of the file to the variable url.\n",
    "Read the file in url into a dictionary xls using pd.read_excel() recalling that, in order to import all sheets you need to pass None to the argument sheet_name.\n",
    "Print the names of the sheets in the Excel spreadsheet; these will be the keys of the dictionary xls.\n",
    "Print the head of the first sheet using the sheet name, not the index of the sheet! The sheet name is '1700'\n",
    "'''\n",
    "\n",
    "import pandas as pd\n",
    "\n",
    "# Assign the URL of the file to the variable url\n",
    "url = \"https://assets.datacamp.com/course/importing_data_into_r/latitude.xls\"  \n",
    "# Replace with the actual URL of your Excel file\n",
    "\n",
    "# Read in all sheets of the Excel file into a dictionary xls\n",
    "xls = pd.read_excel(url, sheet_name=None)  # Pass None to read all sheets\n",
    "\n",
    "# Print the names of the sheets in the Excel spreadsheet\n",
    "# print(\"Sheet names:\", list(xls.keys()))\n",
    "print(xls.keys())\n",
    "\n",
    "# Print the head of the first sheet using the sheet name '1700'\n",
    "try:\n",
    "  first_sheet_name = \"1700\"\n",
    "  print(f\"\\nHead of sheet '{first_sheet_name}':\")\n",
    "  print(xls[first_sheet_name].head())\n",
    "except KeyError:\n",
    "  print(f\"Sheet named '{first_sheet_name}' not found in the Excel file.\")\n",
    "\n"
   ]
  },
  {
   "cell_type": "code",
   "execution_count": null,
   "metadata": {},
   "outputs": [],
   "source": []
  },
  {
   "cell_type": "code",
   "execution_count": null,
   "metadata": {},
   "outputs": [],
   "source": []
  },
  {
   "cell_type": "code",
   "execution_count": null,
   "metadata": {},
   "outputs": [],
   "source": []
  }
 ],
 "metadata": {
  "language_info": {
   "name": "python"
  }
 },
 "nbformat": 4,
 "nbformat_minor": 2
}
