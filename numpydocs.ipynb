{
 "cells": [
  {
   "cell_type": "code",
   "execution_count": null,
   "metadata": {},
   "outputs": [],
   "source": [
    "'''\n",
    "what is numpy?\n",
    "numpy is multi dimentional array library used for data science, machine learning, and scientific manipulation\n",
    "\n",
    "difference btw list and numpy: numpy is faster to read less bytes of memory\n",
    "in numpy there is no type checking when iterating through objects, \n",
    "numpy utilizes contiguous memory, SIMD Vector Processing, Effective Catch Utilization.\n",
    "List: entails insertion, deletion, appending, concantenation, etc\n",
    "Numpy: same applies as that of list\n",
    "'''"
   ]
  },
  {
   "cell_type": "code",
   "execution_count": null,
   "metadata": {},
   "outputs": [],
   "source": [
    "a = [1,3,5]\n",
    "b = [2,4,6]\n",
    "\n",
    "# a*b == error \n",
    "import numpy as np \n",
    "a = np.array([1,3,5])\n",
    "b = np.array([2,4,6])\n",
    "# a*b == np.array([1,6,15])"
   ]
  },
  {
   "cell_type": "code",
   "execution_count": null,
   "metadata": {},
   "outputs": [],
   "source": [
    "'''\n",
    "Application of Numpy:\n",
    "Mathematics(MATLAB Replacement)\n",
    "Plotting(Matplotlib)\n",
    "Backend(pandas, connect4, digital Photograpphy)\n",
    "numpy is core component of pandass\n",
    "very important to machine learning especially Tensor.\n",
    "'''"
   ]
  }
 ],
 "metadata": {
  "language_info": {
   "name": "python"
  }
 },
 "nbformat": 4,
 "nbformat_minor": 2
}
