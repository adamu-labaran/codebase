{
 "cells": [
  {
   "cell_type": "code",
   "execution_count": null,
   "metadata": {},
   "outputs": [],
   "source": []
  },
  {
   "cell_type": "markdown",
   "metadata": {},
   "source": [
    "Yes, you're right! Three main views are available when loading a new Desktop file - Report, Data, and Model. You can find a handy overview of Power BI in the navigation cheat sheet.\n",
    "\n",
    "You'll now be presented with a demo video, after which you'll be introduced to the virtual machine (VM) running Power BI. In this VM, you have access to all datasets. If you prefer to download the datasets, you can do that from the bottom of the course landing page. Let's get started!"
   ]
  },
  {
   "cell_type": "markdown",
   "metadata": {},
   "source": []
  }
 ],
 "metadata": {
  "language_info": {
   "name": "python"
  }
 },
 "nbformat": 4,
 "nbformat_minor": 2
}
