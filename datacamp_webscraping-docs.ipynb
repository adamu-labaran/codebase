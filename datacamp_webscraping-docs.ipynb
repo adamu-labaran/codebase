{
 "cells": [
  {
   "cell_type": "code",
   "execution_count": null,
   "metadata": {},
   "outputs": [],
   "source": [
    "# Import package\n",
    "from urllib.request import urlretrieve\n",
    "\n",
    "# Import pandas\n",
    "import pandas as pd\n",
    "\n",
    "# Assign url of file: url\n",
    "url = 'https://assets.datacamp.com/production/course_1606/datasets/winequality-red.csv'\n",
    "\n",
    "# Save file locally\n",
    "urlretrieve(url, 'winequality-red.csv')\n",
    "\n",
    "# Read file into a DataFrame and print its head\n",
    "df = pd.read_csv('winequality-red.csv', sep=';')\n",
    "print(df.head())"
   ]
  },
  {
   "cell_type": "code",
   "execution_count": null,
   "metadata": {},
   "outputs": [],
   "source": [
    "'''\n",
    "Your recent learnings\n",
    "When you left 10 hours ago, you worked on Importing data from the Internet, chapter 1 of the course Intermediate Importing Data in Python. Here is what you covered in your last lesson:\n",
    "\n",
    "You learned how to import data from the web into Python using the urllib.request module, specifically how to use the urlretrieve function to save a file from the web to your local computer. For example, you used urlretrieve to download a dataset of wine quality from the University of California, Irvine, saving it as 'winequality-red.csv'. You also discovered how to directly load a file from the web into a pandas DataFrame without saving it locally first, using pd.read_csv() with the file's URL as the argument. This method is efficient for quickly accessing and analyzing web-hosted datasets. Additionally, you explored importing non-flat files, such as Excel files, from the web using pd.read_excel(), learning to read in all sheets of an Excel file into a dictionary of DataFrames. This skill is particularly useful for working with complex datasets distributed across multiple sheets in a single file.\n",
    "\n",
    "Key points covered include:\n",
    "\n",
    "Using urlretrieve from urllib.request to download files.\n",
    "Directly loading web files into pandas DataFrames using pd.read_csv().\n",
    "Importing and working with Excel files from the web using pd.read_excel(), handling multiple sheets.\n",
    "Here's a snippet of code you worked with:\n",
    "'''"
   ]
  }
 ],
 "metadata": {
  "language_info": {
   "name": "python"
  }
 },
 "nbformat": 4,
 "nbformat_minor": 2
}
