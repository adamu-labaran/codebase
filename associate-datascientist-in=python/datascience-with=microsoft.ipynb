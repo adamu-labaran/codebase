{
 "cells": [
  {
   "cell_type": "code",
   "execution_count": null,
   "metadata": {},
   "outputs": [],
   "source": [
    "'''\n",
    "Throughout this learning path you explore and configure the Azure Machine Learning workspace. Learn how you can create a workspace and what you can do with it. Explore the various developer tools you can use to interact with the workspace. Configure the workspace for machine learning workloads by creating data assets and compute resources\n",
    "\n",
    "Introduction\n",
    "Completed\n",
    "100 XP\n",
    "2 minutes\n",
    "As a data scientist, you want to focus on training machine learning models. Ideally, you want to work with a service that gives you access to all the necessary infrastructure you need to train and deploy a model. You also want the service to allow you to track any work you do to make your model reproducible and robust.\n",
    "\n",
    "Azure Machine Learning provides a platform for data scientists to train, deploy, and manage their machine learning models on the Microsoft Azure platform. Azure Machine Learning provides a comprehensive set of resources and assets to train and deploy effective machine learning models.\n",
    "\n",
    "To use these resources and assets, you create an Azure Machine Learning workspace resource in your Azure subscription. In the Azure Machine Learning workspace, you can manage data, compute resources, models, endpoints, and other artifacts related to your machine learning workloads.\n",
    "\n",
    " Important\n",
    "\n",
    "Azure Machine Learning has introduced version 2 (v2) to introduce a consistency of features and terminology across interfaces. You should use v2 if you're starting a new machine learning project. Therefore, this module only covers v2. Learn more about deciding between v1 and v2.\n",
    "\n",
    "Learning objectives\n",
    "In this module, you'll learn how to:\n",
    "\n",
    "Create an Azure Machine Learning workspace.\n",
    "Identify resources and assets.\n",
    "Train models in the workspace.\n",
    "\n",
    "\n",
    "\n",
    "\n",
    "\n",
    "\n",
    "'''"
   ]
  }
 ],
 "metadata": {
  "language_info": {
   "name": "python"
  }
 },
 "nbformat": 4,
 "nbformat_minor": 2
}
