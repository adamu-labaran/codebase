{
 "cells": [
  {
   "cell_type": "code",
   "execution_count": 9,
   "metadata": {},
   "outputs": [
    {
     "name": "stdout",
     "output_type": "stream",
     "text": [
      "x = 8\n"
     ]
    }
   ],
   "source": [
    "# information flow\n",
    "def main():\n",
    "    x = 3\n",
    "    # add_five(x)\n",
    "    '''\n",
    "    instead of expecting 8, 3 was returned\n",
    "    information flow: to get the real value of our intended 8 we assign add_five(x) into a new variable.\n",
    "    '''\n",
    "    x = add_five(x)\n",
    "    print('x = ' + str(x))\n",
    "    \n",
    "def add_five(x):\n",
    "    x += 5\n",
    "    return x\n",
    "    \n",
    "main()"
   ]
  },
  {
   "cell_type": "code",
   "execution_count": 10,
   "metadata": {},
   "outputs": [],
   "source": [
    "def main():\n",
    "    balance = int(input('Initial balance: '))\n",
    "    while True:\n",
    "        amount = int(input('Deposite (0 to quit): '))\n",
    "        if amount == 0:\n",
    "            break\n",
    "    balance = deposit(balance, amount)\n",
    "\n",
    "def deposit(balance, amount):\n",
    "    balance += amount\n",
    "    return balance    "
   ]
  },
  {
   "cell_type": "code",
   "execution_count": null,
   "metadata": {},
   "outputs": [],
   "source": []
  }
 ],
 "metadata": {
  "kernelspec": {
   "display_name": "Python 3",
   "language": "python",
   "name": "python3"
  },
  "language_info": {
   "codemirror_mode": {
    "name": "ipython",
    "version": 3
   },
   "file_extension": ".py",
   "mimetype": "text/x-python",
   "name": "python",
   "nbconvert_exporter": "python",
   "pygments_lexer": "ipython3",
   "version": "3.12.3"
  }
 },
 "nbformat": 4,
 "nbformat_minor": 2
}
